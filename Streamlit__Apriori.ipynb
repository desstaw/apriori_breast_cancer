{
  "cells": [
    {
      "cell_type": "markdown",
      "metadata": {
        "id": "LE7IuZhZWSnm"
      },
      "source": [
        "Sources:\n",
        "https://gist.github.com/eduardoftdo/e3d2b7ca4a06d8d86b144482d0aed5a1\n",
        "\n",
        "http://rasbt.github.io/mlxtend/user_guide/frequent_patterns/apriori/"
      ]
    },
    {
      "cell_type": "code",
      "execution_count": 2,
      "metadata": {
        "colab": {
          "base_uri": "https://localhost:8080/"
        },
        "id": "GRLaUJhKArr2",
        "outputId": "a5e26cd7-4d10-4ac3-ec61-56a4427c9937"
      },
      "outputs": [
        {
          "output_type": "stream",
          "name": "stdout",
          "text": [
            "Mounted at /content/drive\n"
          ]
        }
      ],
      "source": [
        "from google.colab import drive\n",
        "drive.mount('/content/drive', force_remount=True)"
      ]
    },
    {
      "cell_type": "code",
      "execution_count": 3,
      "metadata": {
        "colab": {
          "base_uri": "https://localhost:8080/"
        },
        "id": "v5mlxxBTCKbR",
        "outputId": "cb3d1d0a-2247-41fa-9f36-934bbcde8b28"
      },
      "outputs": [
        {
          "output_type": "stream",
          "name": "stdout",
          "text": [
            "\u001b[K     |████████████████████████████████| 9.1 MB 17.9 MB/s \n",
            "\u001b[K     |████████████████████████████████| 78 kB 5.1 MB/s \n",
            "\u001b[K     |████████████████████████████████| 232 kB 47.5 MB/s \n",
            "\u001b[K     |████████████████████████████████| 4.3 MB 36.5 MB/s \n",
            "\u001b[K     |████████████████████████████████| 181 kB 67.9 MB/s \n",
            "\u001b[K     |████████████████████████████████| 164 kB 58.6 MB/s \n",
            "\u001b[K     |████████████████████████████████| 111 kB 53.0 MB/s \n",
            "\u001b[K     |████████████████████████████████| 63 kB 1.3 MB/s \n",
            "\u001b[K     |████████████████████████████████| 132 kB 46.4 MB/s \n",
            "\u001b[K     |████████████████████████████████| 793 kB 43.8 MB/s \n",
            "\u001b[K     |████████████████████████████████| 132 kB 66.9 MB/s \n",
            "\u001b[K     |████████████████████████████████| 423 kB 41.4 MB/s \n",
            "\u001b[K     |████████████████████████████████| 381 kB 66.6 MB/s \n",
            "\u001b[K     |████████████████████████████████| 51 kB 5.5 MB/s \n",
            "\u001b[?25h  Building wheel for blinker (setup.py) ... \u001b[?25l\u001b[?25hdone\n",
            "  Building wheel for validators (setup.py) ... \u001b[?25l\u001b[?25hdone\n",
            "\u001b[31mERROR: pip's dependency resolver does not currently take into account all the packages that are installed. This behaviour is the source of the following dependency conflicts.\n",
            "nbclient 0.6.6 requires traitlets>=5.2.2, but you have traitlets 5.1.1 which is incompatible.\n",
            "jupyter-console 5.2.0 requires prompt-toolkit<2.0.0,>=1.0.0, but you have prompt-toolkit 3.0.30 which is incompatible.\n",
            "google-colab 1.0.0 requires ipykernel~=4.10, but you have ipykernel 6.15.1 which is incompatible.\n",
            "google-colab 1.0.0 requires ipython~=5.5.0, but you have ipython 7.34.0 which is incompatible.\n",
            "google-colab 1.0.0 requires tornado~=5.1.0; python_version >= \"3.0\", but you have tornado 6.2 which is incompatible.\u001b[0m\n",
            "Looking in indexes: https://pypi.org/simple, https://us-python.pkg.dev/colab-wheels/public/simple/\n",
            "Collecting efficient-apriori\n",
            "  Downloading efficient_apriori-2.0.1-py3-none-any.whl (14 kB)\n",
            "Installing collected packages: efficient-apriori\n",
            "Successfully installed efficient-apriori-2.0.1\n"
          ]
        }
      ],
      "source": [
        "!pip install streamlit -q\n",
        "!pip install efficient-apriori\n",
        "#!pip install pyngrok\n",
        "#%%writefile app.py"
      ]
    },
    {
      "cell_type": "code",
      "execution_count": 8,
      "metadata": {
        "colab": {
          "base_uri": "https://localhost:8080/"
        },
        "id": "s6A7_7VdE6Xo",
        "outputId": "1bf865ac-1b1b-434f-9ff6-39e75095ad6b"
      },
      "outputs": [
        {
          "output_type": "stream",
          "name": "stdout",
          "text": [
            "Writing streamlit_app.py\n"
          ]
        }
      ],
      "source": [
        "%%writefile streamlit_app.py \n",
        "import streamlit as st \n",
        "st.header('Association Rule Mining with Apriori Algorithm')\n",
        "st.caption('Dataset: UCI Breast Cancer Data provided by the Oncology Institute')\n",
        "\n",
        "import numpy as np\n",
        "import matplotlib.pyplot as plt\n",
        "import pandas as pd\n",
        "import sys\n",
        "import os\n",
        "\n",
        "\n",
        "from efficient_apriori import apriori\n",
        "\n",
        "path = \"/content/drive/MyDrive/breast-cancer.data\"\n",
        "#df = pd.read_csv(path)\n",
        "data = pd.read_csv(path, header=None)\n",
        "data.columns = ['Class', 'Age', 'Menopause', 'Tumor_Size', 'Inv_Nodes', 'Node_Caps', 'Malignancy_Degree', 'Breast', 'Breast_Quad', 'Irradiat']\n",
        "data['Malignancy_Degree'] = data['Malignancy_Degree'].astype(str)\n",
        "\n",
        "data['Class'] = pd.Categorical(data.Class)\n",
        "data['Age'] = pd.Categorical(data.Age)\n",
        "data['Menopause'] = pd.Categorical(data.Menopause)\n",
        "data['Tumor_Size'] = pd.Categorical(data.Tumor_Size)\n",
        "data['Inv_Nodes'] = pd.Categorical(data.Inv_Nodes)\n",
        "data['Node_Caps'] = pd.Categorical(data.Node_Caps)\n",
        "data['Malignancy_Degree'] = pd.Categorical(data.Malignancy_Degree)\n",
        "data['Breast'] = pd.Categorical(data.Breast)\n",
        "data['Breast_Quad'] = pd.Categorical(data.Breast_Quad)\n",
        "data['Irradiat'] = pd.Categorical(data.Irradiat)\n",
        "\n",
        "#data['Class', 'Age', 'Menopause', 'Tumor_Size', 'Inv_Nodes'] = pd.Categorical(data.Class, data.Age, data.Menopause, data.Tumor_Size, data.Inv_Nodes)\n",
        "#data['Node_Caps', 'Malignancy_Degree', 'Breast', 'Breast_Quad', 'Irradiat'] = pd.Categorical(data.Node_Caps, data.Malignancy_Degree, data.Breast, data.Breast_Quad, data.Irradiat)\n",
        "\n",
        "df = data\n",
        "\n",
        "df[\"Irradiat\"].replace({\"yes\": \"Radiation\", \"no\": \"No_Radiation\"}, inplace=True)\n",
        "print(df['Irradiat'])\n",
        "\n",
        "\n",
        "transactions = []\n",
        "for i in range(0, 286):\n",
        " transactions.append([str(df.values[i,j]) for j in range(0,10)])\n",
        "\n",
        "# Show dataframe\n",
        "#transactions\n",
        "\n",
        "\n",
        "\n",
        "from mlxtend.preprocessing import TransactionEncoder\n",
        "te = TransactionEncoder()\n",
        "te_ary = te.fit(transactions).transform(transactions)\n",
        "df = pd.DataFrame(te_ary, columns=te.columns_)\n",
        "#df\n",
        "\n",
        "\n",
        "df.rename(columns = {'0-2':'inv_nodes:0-2', '3-5':'inv_nodes:3-5', '6-8':'inv_nodes:6-8', '9-11':'inv_nodes:9-11','12-14':'inv_nodes:12-14', '15-17':'inv_nodes:15-17', '18-20':'inv_nodes:18-20', '21-23':'inv_nodes:21-23','24-26':'inv_nodes:24-26', \n",
        "                     '0-4':'tumor_size:0-4', '10-14':'tumor_size:10-14', '15-19':'tumor_size:15-19', '20-24':'tumor_size:20-24', '25-29':'tumor_size:25-29', '30-34':'tumor_size:30-34', '35-39':'tumor_size:35-39', '40-44':'tumor_size:40-44', '45-49':'tumor_size:45-49', '50-54':'tumor_size:50-54',\n",
        "                     '20-29':'age:20-29', '30-39':'age:30-39', '40-49':'age:40-49', '50-59':'age:50-59', '60-69':'age:60-69', '70-79':'age:70-79',\n",
        "                     'left':'breast:left', 'right':'breast:right',\n",
        "                     'yes':'node_caps:yes', 'no':'node_caps:no',\n",
        "                     '1':'deg_malig:1', '2': 'deg_malig:2', '3':'deg_malig:3',\n",
        "                     'left_up':'breast_quad:left_up', 'left_low':'breast_quad:left_low', 'right_low':'breast_quad:right_low', 'central':'breast_quad:central',\n",
        "                     'lt40':'menopause:lt40', 'ge40':'menopause:ge40', 'premeno':'menopause:premeno'}, inplace = True)\n",
        "\n",
        "\n",
        "\n",
        "df.drop('?', axis=1, inplace=True)\n",
        "\n",
        "\n",
        "\n",
        "from mlxtend.frequent_patterns import apriori\n",
        "from mlxtend.frequent_patterns import association_rules\n",
        "\n",
        "#implementation of apriori general association rules without filter\n",
        "\n",
        "st.subheader('1. Implementation of Apriori general association rules without filtering the consequents')\n",
        "\n",
        "\n",
        "#Apriori min support\n",
        "#min_support = 0.05\n",
        "min_support = st.slider(\"Minimum Support Value\", min_value=0.01,\n",
        "                    max_value=0.9, value=0.15, key = 1)\n",
        "\n",
        "#Max lenght of apriori itemsets\n",
        "max_len = st.slider(\"Max lenght of apriori itemsets\", min_value=1,\n",
        "                    max_value=39, value=3, step=1, key = 2)\n",
        "\n",
        "frequent_items = apriori(df, use_colnames=True, min_support=min_support, max_len=max_len + 1)\n",
        "rules = association_rules(frequent_items, metric='lift', min_threshold=1)\n",
        "\n",
        "rules['antecedents'] = rules['antecedents'].astype('string')\n",
        "rules['consequents'] = rules['consequents'].astype('string')\n",
        "\n",
        "#select values to display\n",
        "rules = rules[['antecedents', 'consequents', 'support', 'lift', 'confidence', 'conviction']]\n",
        "rules\n",
        "\n",
        "\n",
        "\n",
        "#Filtering only consequents with 'Recurrence Events' or 'No Recurrent Events'\n",
        "\n",
        "\n",
        "st.subheader('2. Filtering only consequents with Recurrence Events or Non-Recurrence Events')\n",
        "\n",
        "#slider to selecet a min support value\n",
        "min_support = st.slider(\"Minimum Support Value\", min_value=0.01,\n",
        "                    max_value=0.9, value=0.10, key = 3)\n",
        "\n",
        "#Max lenght of apriori itemsets\n",
        "max_len = st.slider(\"Max. lenght of apriori itemset\", min_value=1,\n",
        "                    max_value=39, value=3, step=1, key =4)\n",
        "\n",
        "frequent_items = apriori(df, use_colnames=True, min_support=min_support, max_len=max_len + 1)\n",
        "rules = association_rules(frequent_items, metric='lift', min_threshold=1)\n",
        "\n",
        "\n",
        "#target = '{\\'recurrence-events\\'}'\n",
        "target = st.selectbox(\n",
        "     'Select a target:',\n",
        "     ('recurrence-events', 'no-recurrence-events'))\n",
        "target = \"{'\" + target + \"'}\"\n",
        "     \n",
        "#target = target.astype(str)\n",
        "results_target = rules[rules['consequents'].astype(str).str.contains(target, na=False)].sort_values(by='confidence', ascending=False)\n",
        "results_target['antecedents'] = results_target['antecedents'].astype('string')\n",
        "results_target['consequents'] = results_target['consequents'].astype('string')\n",
        "#results_target.head(10)\n",
        "\n",
        "results_target = results_target[['antecedents', 'consequents', 'support', 'lift', 'confidence', 'conviction']]\n",
        "\n",
        "\n",
        "results_target\n"
      ]
    },
    {
      "cell_type": "code",
      "execution_count": null,
      "metadata": {
        "colab": {
          "base_uri": "https://localhost:8080/"
        },
        "id": "WkzgVN7KuQsa",
        "outputId": "0034db4a-01e7-4a1f-9f19-5309394912f0"
      },
      "outputs": [
        {
          "output_type": "stream",
          "name": "stdout",
          "text": [
            "2022-07-10 22:39:42.818 INFO    numexpr.utils: NumExpr defaulting to 2 threads.\n",
            "\u001b[K\u001b[?25hnpx: installed 22 in 6.114s\n",
            "your url is: https://silly-pans-find-35-188-229-76.loca.lt\n",
            "\u001b[0m\n",
            "\u001b[34m\u001b[1m  You can now view your Streamlit app in your browser.\u001b[0m\n",
            "\u001b[0m\n",
            "\u001b[34m  Network URL: \u001b[0m\u001b[1mhttp://172.28.0.2:8501\u001b[0m\n",
            "\u001b[34m  External URL: \u001b[0m\u001b[1mhttp://35.188.229.76:8501\u001b[0m\n",
            "\u001b[0m\n",
            "0      No_Radiation\n",
            "1      No_Radiation\n",
            "2      No_Radiation\n",
            "3      No_Radiation\n",
            "4      No_Radiation\n",
            "           ...     \n",
            "281    No_Radiation\n",
            "282       Radiation\n",
            "283    No_Radiation\n",
            "284    No_Radiation\n",
            "285    No_Radiation\n",
            "Name: Irradiat, Length: 286, dtype: object\n"
          ]
        }
      ],
      "source": [
        "!streamlit run streamlit_app.py & npx localtunnel --port 8501 "
      ]
    }
  ],
  "metadata": {
    "colab": {
      "collapsed_sections": [],
      "name": "Streamlit_ Apriori.ipynb",
      "provenance": []
    },
    "kernelspec": {
      "display_name": "Python 3",
      "name": "python3"
    },
    "language_info": {
      "name": "python"
    }
  },
  "nbformat": 4,
  "nbformat_minor": 0
}